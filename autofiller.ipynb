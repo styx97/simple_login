{
 "cells": [
  {
   "cell_type": "code",
   "execution_count": 13,
   "metadata": {},
   "outputs": [],
   "source": [
    "import requests,urllib\n",
    "import os,sys,re,zipfile,shutil,io\n",
    "from bs4 import BeautifulSoup\n",
    "cwd = os.getcwd()\n",
    "from selenium import webdriver\n",
    "from selenium.webdriver.common.keys import Keys\n",
    "from selenium.webdriver.chrome.options import Options"
   ]
  },
  {
   "cell_type": "code",
   "execution_count": null,
   "metadata": {
    "scrolled": true
   },
   "outputs": [
    {
     "name": "stdout",
     "output_type": "stream",
     "text": [
      "<selenium.webdriver.remote.webelement.WebElement (session=\"494247c998b2f7afbb4b2a3125ae2e2e\", element=\"0.7855907523736396-1\")>\n"
     ]
    }
   ],
   "source": [
    "driver = webdriver.Chrome()\n",
    "\n",
    "driver.get(\"http://10.254.254.66/0/up/\")\n",
    "\n",
    "status = driver.find_element_by_class_name(\"username\")\n",
    "print(status)\n",
    "\n",
    "username = driver.find_element_by_id(\"username\")\n",
    "password = driver.find_element_by_id(\"password\")\n",
    "\n",
    "username.send_keys(\"wd_bic\")\n",
    "password.send_keys(\"aawaaawa128\")\n",
    "\n",
    "driver.find_element_by_class_name(\"btnlink1\").click()\n",
    "\n",
    "while(True):\n",
    "    if len(driver.window_handles) > 1 :\n",
    "        driver.switch_to.window(driver.window_handles[1])\n",
    "        driver.close()\n",
    "    #print(driver.window_handles)\n",
    "# driver.switch_to_window(driver.window_handles[-1])\n",
    "# driver.close()\n",
    "#driver.quit()"
   ]
  },
  {
   "cell_type": "code",
   "execution_count": null,
   "metadata": {},
   "outputs": [],
   "source": []
  }
 ],
 "metadata": {
  "kernelspec": {
   "display_name": "Python [conda env:py3]",
   "language": "python",
   "name": "conda-env-py3-py"
  },
  "language_info": {
   "codemirror_mode": {
    "name": "ipython",
    "version": 3
   },
   "file_extension": ".py",
   "mimetype": "text/x-python",
   "name": "python",
   "nbconvert_exporter": "python",
   "pygments_lexer": "ipython3",
   "version": "3.6.8"
  }
 },
 "nbformat": 4,
 "nbformat_minor": 2
}
